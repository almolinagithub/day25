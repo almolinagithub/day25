{
 "cells": [
  {
   "cell_type": "code",
   "execution_count": 10,
   "id": "76735831-704c-48ad-a1d8-364ea03560fa",
   "metadata": {},
   "outputs": [
    {
     "name": "stdout",
     "output_type": "stream",
     "text": [
      "2473\n",
      "392\n",
      "103\n"
     ]
    }
   ],
   "source": [
    "import pandas as pd\n",
    "\n",
    "data = pd.read_csv(\"/Users/admin/Documents/day25/venv/2018_Central_Park_Squirrel_Census_-_Squirrel_Data.csv\")\n",
    "data.columns = data.columns.str.replace(' ', '_')\n",
    "\n",
    "gray_squirrels_n = len(data[data.Primary_Fur_Color == \"Gray\"])\n",
    "cinn_squirrels_n = len(data[data.Primary_Fur_Color == \"Cinnamon\"])\n",
    "black_squirrels_n = len(data[data.Primary_Fur_Color == \"Black\"])\n",
    "\n",
    "print(gray_squirrels_n)\n",
    "print(cinn_squirrels_n)\n",
    "print(black_squirrels_n)"
   ]
  },
  {
   "cell_type": "code",
   "execution_count": null,
   "id": "3ee7c341-7cab-4180-9eff-f84b49123cda",
   "metadata": {},
   "outputs": [],
   "source": []
  }
 ],
 "metadata": {
  "kernelspec": {
   "display_name": "Python 3",
   "language": "python",
   "name": "python3"
  },
  "language_info": {
   "codemirror_mode": {
    "name": "ipython",
    "version": 3
   },
   "file_extension": ".py",
   "mimetype": "text/x-python",
   "name": "python",
   "nbconvert_exporter": "python",
   "pygments_lexer": "ipython3",
   "version": "3.8.8"
  }
 },
 "nbformat": 4,
 "nbformat_minor": 5
}
